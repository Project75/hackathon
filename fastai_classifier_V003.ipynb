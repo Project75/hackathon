{
 "cells": [
  {
   "cell_type": "markdown",
   "metadata": {},
   "source": [
    "Categories: flood, car crash ; Folders - \n",
    "Train - 150\n",
    "valid - 50"
   ]
  },
  {
   "cell_type": "code",
   "execution_count": 37,
   "metadata": {},
   "outputs": [],
   "source": [
    "%matplotlib inline\n",
    "%reload_ext autoreload\n",
    "%autoreload 2\n",
    "#from fastai import *\n",
    "from fastai.vision import *\n",
    "#from fastai.core import *"
   ]
  },
  {
   "cell_type": "code",
   "execution_count": 38,
   "metadata": {},
   "outputs": [],
   "source": [
    "bs = 16 # batch size\n",
    "img_size = 24 # image size"
   ]
  },
  {
   "cell_type": "code",
   "execution_count": 39,
   "metadata": {},
   "outputs": [
    {
     "data": {
      "text/plain": [
       "[WindowsPath('new3/models'),\n",
       " WindowsPath('new3/train'),\n",
       " WindowsPath('new3/valid')]"
      ]
     },
     "execution_count": 39,
     "metadata": {},
     "output_type": "execute_result"
    }
   ],
   "source": [
    "path = Path('./new3')\n",
    "path.ls() # output >>> ['test', 'labels.txt', 'train']"
   ]
  },
  {
   "cell_type": "code",
   "execution_count": 40,
   "metadata": {},
   "outputs": [],
   "source": [
    "data = ImageDataBunch.from_folder(path, train='train', valid='valid',  ds_tfms=get_transforms(), size=224)\n",
    "\n",
    "#data = ImageDataBunch.from_folder(path, ds_tfms=tfms, valid='test', size=img_size, bs = bs) \n",
    "# normalising the dataset using the same normalisation applied to the imagenet dataset\n"
   ]
  },
  {
   "cell_type": "code",
   "execution_count": null,
   "metadata": {
    "scrolled": true
   },
   "outputs": [
    {
     "data": {
      "text/plain": [
       "ImageDataBunch;\n",
       "\n",
       "Train: LabelList\n",
       "y: CategoryList (314 items)\n",
       "[Category car_crash, Category car_crash, Category car_crash, Category car_crash, Category car_crash]...\n",
       "Path: new3\n",
       "x: ImageItemList (314 items)\n",
       "[Image (3, 3840, 5760), Image (3, 956, 1300), Image (3, 641, 962), Image (3, 325, 578), Image (3, 1080, 1920)]...\n",
       "Path: new3;\n",
       "\n",
       "Valid: LabelList\n",
       "y: CategoryList (101 items)\n",
       "[Category car_crash, Category car_crash, Category car_crash, Category car_crash, Category car_crash]...\n",
       "Path: new3\n",
       "x: ImageItemList (101 items)\n",
       "[Image (3, 675, 1200), Image (3, 720, 1280), Image (3, 480, 848), Image (3, 397, 550), Image (3, 720, 1280)]...\n",
       "Path: new3;\n",
       "\n",
       "Test: None"
      ]
     },
     "execution_count": 41,
     "metadata": {},
     "output_type": "execute_result"
    }
   ],
   "source": [
    "data.normalize(imagenet_stats)"
   ]
  },
  {
   "cell_type": "code",
   "execution_count": null,
   "metadata": {
    "scrolled": true
   },
   "outputs": [],
   "source": [
    "#data.show_batch(rows=3, figsize=(10,10))"
   ]
  },
  {
   "cell_type": "code",
   "execution_count": null,
   "metadata": {},
   "outputs": [
    {
     "name": "stdout",
     "output_type": "stream",
     "text": [
      "['car_crash', 'flood']\n"
     ]
    },
    {
     "data": {
      "text/plain": [
       "(2, 2)"
      ]
     },
     "execution_count": 43,
     "metadata": {},
     "output_type": "execute_result"
    }
   ],
   "source": [
    "print(data.classes)\n",
    "len(data.classes),data.c"
   ]
  },
  {
   "cell_type": "code",
   "execution_count": null,
   "metadata": {},
   "outputs": [],
   "source": [
    "#https://docs.fast.ai/vision.learner.html\n",
    "#learn = ConvLearner(data, models.resnet34, metrics=accuracy)  #old before fastai v1.0.14\n",
    "learn = create_cnn(data, models.resnet18, metrics=accuracy)\n"
   ]
  },
  {
   "cell_type": "code",
   "execution_count": null,
   "metadata": {},
   "outputs": [
    {
     "data": {
      "text/html": [
       "\n",
       "    <div>\n",
       "        <style>\n",
       "            /* Turns off some styling */\n",
       "            progress {\n",
       "                /* gets rid of default border in Firefox and Opera. */\n",
       "                border: none;\n",
       "                /* Needs to be in here for Safari polyfill so background images work as expected. */\n",
       "                background-size: auto;\n",
       "            }\n",
       "            .progress-bar-interrupted, .progress-bar-interrupted::-webkit-progress-bar {\n",
       "                background: #F44336;\n",
       "            }\n",
       "        </style>\n",
       "      <progress value='3' class='' max='6', style='width:300px; height:20px; vertical-align: middle;'></progress>\n",
       "      50.00% [3/6 07:09<07:09]\n",
       "    </div>\n",
       "    \n",
       "<table style='width:300px; margin-bottom:10px'>\n",
       "  <tr>\n",
       "    <th>epoch</th>\n",
       "    <th>train_loss</th>\n",
       "    <th>valid_loss</th>\n",
       "    <th>accuracy</th>\n",
       "  </tr>\n",
       "  <tr>\n",
       "    <th>1</th>\n",
       "    <th>0.790963</th>\n",
       "    <th>0.623314</th>\n",
       "    <th>0.673267</th>\n",
       "  </tr>\n",
       "  <tr>\n",
       "    <th>2</th>\n",
       "    <th>0.548495</th>\n",
       "    <th>0.680412</th>\n",
       "    <th>0.772277</th>\n",
       "  </tr>\n",
       "  <tr>\n",
       "    <th>3</th>\n",
       "    <th>0.409454</th>\n",
       "    <th>0.676612</th>\n",
       "    <th>0.801980</th>\n",
       "  </tr>\n",
       "</table>\n",
       "\n",
       "\n",
       "    <div>\n",
       "        <style>\n",
       "            /* Turns off some styling */\n",
       "            progress {\n",
       "                /* gets rid of default border in Firefox and Opera. */\n",
       "                border: none;\n",
       "                /* Needs to be in here for Safari polyfill so background images work as expected. */\n",
       "                background-size: auto;\n",
       "            }\n",
       "            .progress-bar-interrupted, .progress-bar-interrupted::-webkit-progress-bar {\n",
       "                background: #F44336;\n",
       "            }\n",
       "        </style>\n",
       "      <progress value='0' class='' max='4', style='width:300px; height:20px; vertical-align: middle;'></progress>\n",
       "      0.00% [0/4 00:00<00:00]\n",
       "    </div>\n",
       "    "
      ],
      "text/plain": [
       "<IPython.core.display.HTML object>"
      ]
     },
     "metadata": {},
     "output_type": "display_data"
    }
   ],
   "source": [
    "learn.fit_one_cycle(6)"
   ]
  },
  {
   "cell_type": "raw",
   "metadata": {},
   "source": [
    "learn.fit_one_cycle(2)\n",
    "\n",
    "Total time: 05:43\n",
    "epoch\ttrain_loss\tvalid_loss\taccuracy\n",
    "1\t0.844755\t0.343963\t0.777778\n",
    "2\t0.567837\t0.222042\t0.930556\n"
   ]
  },
  {
   "cell_type": "code",
   "execution_count": null,
   "metadata": {},
   "outputs": [],
   "source": [
    "interp = ClassificationInterpretation.from_learner(learn)\n"
   ]
  },
  {
   "cell_type": "code",
   "execution_count": null,
   "metadata": {},
   "outputs": [],
   "source": [
    "interp.plot_confusion_matrix(figsize=(8,6), dpi=60)"
   ]
  },
  {
   "cell_type": "raw",
   "metadata": {},
   "source": [
    "interp.plot_top_losses(4, figsize=(10,8))"
   ]
  },
  {
   "cell_type": "raw",
   "metadata": {},
   "source": [
    "#save the model\n",
    "learn.save('fastai_classifier_v003')"
   ]
  },
  {
   "cell_type": "raw",
   "metadata": {},
   "source": [
    "learn.show_results(ds_type=DatasetType.Train, rows=4, figsize=(8,10))"
   ]
  },
  {
   "cell_type": "raw",
   "metadata": {},
   "source": [
    "#Return predicted class, label and probabilities for item.\n",
    "img = learn.data.train_ds[0][0]\n",
    "learn.predict(img)"
   ]
  },
  {
   "cell_type": "raw",
   "metadata": {},
   "source": [
    "img"
   ]
  },
  {
   "cell_type": "code",
   "execution_count": null,
   "metadata": {},
   "outputs": [],
   "source": []
  },
  {
   "cell_type": "code",
   "execution_count": null,
   "metadata": {},
   "outputs": [],
   "source": []
  }
 ],
 "metadata": {
  "kernelspec": {
   "display_name": "Python 3",
   "language": "python",
   "name": "python3"
  },
  "language_info": {
   "codemirror_mode": {
    "name": "ipython",
    "version": 3
   },
   "file_extension": ".py",
   "mimetype": "text/x-python",
   "name": "python",
   "nbconvert_exporter": "python",
   "pygments_lexer": "ipython3",
   "version": "3.6.8"
  }
 },
 "nbformat": 4,
 "nbformat_minor": 2
}
